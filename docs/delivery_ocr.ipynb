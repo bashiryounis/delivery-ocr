{
 "cells": [
  {
   "cell_type": "markdown",
   "metadata": {},
   "source": [
    "# Delivery OCR"
   ]
  },
  {
   "cell_type": "markdown",
   "metadata": {},
   "source": [
    "## Define Schema"
   ]
  },
  {
   "cell_type": "code",
   "execution_count": 38,
   "metadata": {},
   "outputs": [],
   "source": [
    "from pydantic import BaseModel\n",
    "from typing import List, Optional, Union\n",
    "\n",
    "\n",
    "class DeliveryItem(BaseModel):\n",
    "    delivery_id: Optional[str] = None\n",
    "    code: Optional[str] = None\n",
    "    finished_at: Optional[str] = None  \n",
    "\n",
    "\n",
    "class DeliverySummary(BaseModel):\n",
    "    date: Optional[str] = None\n",
    "    distance_km: Optional[float] = None\n",
    "    deliveries: Optional[ int] = None\n",
    "    tips_kd: Optional[float] = None\n",
    "    collected_kd: Optional[ float] = None\n",
    "    delivery_items: Optional[List[DeliveryItem]] = None\n"
   ]
  },
  {
   "cell_type": "markdown",
   "metadata": {},
   "source": [
    "## Setup Env"
   ]
  },
  {
   "cell_type": "code",
   "execution_count": null,
   "metadata": {},
   "outputs": [],
   "source": [
    "import os \n",
    "os.environ[\"GOOGLE_API_KEY\"]=\"xxxx\"\n",
    "\n"
   ]
  },
  {
   "cell_type": "markdown",
   "metadata": {},
   "source": [
    "## Call LLM"
   ]
  },
  {
   "cell_type": "code",
   "execution_count": 40,
   "metadata": {},
   "outputs": [],
   "source": [
    "from PIL import Image\n",
    "from google import genai\n",
    "\n",
    "client = genai.Client(api_key=os.environ[\"GOOGLE_API_KEY\"])\n"
   ]
  },
  {
   "cell_type": "code",
   "execution_count": null,
   "metadata": {},
   "outputs": [],
   "source": [
    "prompt = \"\"\"You are provided with an image of a delivery summary screen from a mobile application.\n",
    "\n",
    "Extract the following structured information from the image and return it as a JSON object:\n",
    "\n",
    "{\n",
    "  \"date\": string (format: \"YYYY-MM-DD\"),\n",
    "  \"distance_km\": float,\n",
    "  \"deliveries\": integer,\n",
    "  \"tips_kd\": float | null,\n",
    "  \"collected_kd\": float | null,\n",
    "  \"delivery_items\": [\n",
    "    {\n",
    "      \"delivery_id\": string,\n",
    "      \"code\": string,\n",
    "      \"finished_at\": string (format: \"HH:MM\")\n",
    "    },\n",
    "    ...\n",
    "  ]\n",
    "}\n",
    "\n",
    "Rules:\n",
    "- Use only the data that is clearly visible in the image.\n",
    "- If a value is missing or unclear, return it as null.\n",
    "- Return only the JSON — no comments, no explanations, no markdown.\n",
    "\"\"\"\n",
    "def load_image(image_path):\n",
    "    return Image.open(image_path)\n",
    "\n",
    "\n",
    "def extract_delivery_data(image_path):\n",
    "    image = load_image(image_path)\n",
    "    response = client.models.generate_content(\n",
    "        model = \"gemini-1.5-pro\",\n",
    "        contents = [prompt, image],\n",
    "        config={\n",
    "            'response_schema': DeliverySummary,\n",
    "            'response_mime_type': 'application/json'\n",
    "        })\n",
    "    return response\n"
   ]
  },
  {
   "cell_type": "code",
   "execution_count": 31,
   "metadata": {},
   "outputs": [
    {
     "data": {
      "text/plain": [
       "DeliverySummary(date='2025-03-18', distance_km=94.459, deliveries=13, tips_kd=0.35, collected_kd=13.3, delivery_items=[DeliveryItem(delivery_id='2036812712', code='#9502', finished_at='23:59'), DeliveryItem(delivery_id='2036632395', code='#7876', finished_at='22:23'), DeliveryItem(delivery_id='2036538931', code='#7745', finished_at='21:06'), DeliveryItem(delivery_id='2036431750', code='#7612', finished_at='19:54'), DeliveryItem(delivery_id='2036375097', code='#7529', finished_at='18:53'), DeliveryItem(delivery_id='2036286407', code='#7463', finished_at=None)])"
      ]
     },
     "execution_count": 31,
     "metadata": {},
     "output_type": "execute_result"
    }
   ],
   "source": [
    "image_path = \"sample2.jpeg\"  # Path to your image file\n",
    "json_result = extract_delivery_data(image_path)\n",
    "json_result.parsed"
   ]
  },
  {
   "cell_type": "code",
   "execution_count": null,
   "metadata": {},
   "outputs": [
    {
     "data": {
      "text/plain": [
       "DeliverySummary(date='2025-03-15', distance_km=112.482, deliveries=15, tips_kd=None, collected_kd=None, delivery_items=[DeliveryItem(delivery_id='2032394476', code='3680', finished_at='23:14'), DeliveryItem(delivery_id='2032389414', code='3679', finished_at='23:04'), DeliveryItem(delivery_id='2032294813', code='3022', finished_at='22:02'), DeliveryItem(delivery_id='2032195044', code='1060', finished_at='20:53')])"
      ]
     },
     "execution_count": 32,
     "metadata": {},
     "output_type": "execute_result"
    }
   ],
   "source": [
    "image_path = \"sample1.jpeg\"  # Path to your image file\n",
    "json_result = extract_delivery_data(image_path)\n",
    "json_result.parsed"
   ]
  }
 ],
 "metadata": {
  "kernelspec": {
   "display_name": "llamaindex",
   "language": "python",
   "name": "python3"
  },
  "language_info": {
   "codemirror_mode": {
    "name": "ipython",
    "version": 3
   },
   "file_extension": ".py",
   "mimetype": "text/x-python",
   "name": "python",
   "nbconvert_exporter": "python",
   "pygments_lexer": "ipython3",
   "version": "3.12.9"
  }
 },
 "nbformat": 4,
 "nbformat_minor": 2
}
